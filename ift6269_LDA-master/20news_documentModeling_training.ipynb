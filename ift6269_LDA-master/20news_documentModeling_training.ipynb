{
 "cells": [
  {
   "cell_type": "code",
   "execution_count": 1,
   "metadata": {
    "collapsed": false
   },
   "outputs": [
    {
     "name": "stdout",
     "output_type": "stream",
     "text": [
      "loading the train set\n",
      "Done loading 1000 documents\n",
      "Done loading 2000 documents\n",
      "Done loading 3000 documents\n",
      "Done loading 4000 documents\n",
      "Done loading 5000 documents\n",
      "Done loading 6000 documents\n",
      "Done loading 7000 documents\n",
      "Done loading 8000 documents\n",
      "Done loading 9000 documents\n",
      "Done loading 10000 documents\n",
      "Done loading 11000 documents\n",
      "loading the labels for train set\n",
      "loading the map for train set\n",
      "loading the test set\n",
      "Done loading 1000 documents\n",
      "Done loading 2000 documents\n",
      "Done loading 3000 documents\n",
      "Done loading 4000 documents\n",
      "Done loading 5000 documents\n",
      "Done loading 6000 documents\n",
      "Done loading 7000 documents\n",
      "loading the labels for test set\n",
      "loading the map for test set\n",
      "loading the vocabulary\n"
     ]
    }
   ],
   "source": [
    "import dataset\n",
    "\n",
    "#Loading the dataset\n",
    "train_data, train_labels, train_map, test_data, test_labels, test_map, vocab = dataset.load_20news()"
   ]
  },
  {
   "cell_type": "code",
   "execution_count": null,
   "metadata": {
    "collapsed": true
   },
   "outputs": [],
   "source": [
    "import vb_lda\n",
    "\n"
   ]
  }
 ],
 "metadata": {
  "kernelspec": {
   "display_name": "Python 2",
   "language": "python",
   "name": "python2"
  },
  "language_info": {
   "codemirror_mode": {
    "name": "ipython",
    "version": 2
   },
   "file_extension": ".py",
   "mimetype": "text/x-python",
   "name": "python",
   "nbconvert_exporter": "python",
   "pygments_lexer": "ipython2",
   "version": "2.7.12"
  }
 },
 "nbformat": 4,
 "nbformat_minor": 0
}
