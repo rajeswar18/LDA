{
 "cells": [
  {
   "cell_type": "code",
   "execution_count": 143,
   "metadata": {
    "collapsed": false
   },
   "outputs": [],
   "source": [
    "#%load_ext autoreload\n",
    "%autoreload 2\n",
    "import dataset\n",
    "import vb_lda\n",
    "import numpy as np\n",
    "\n",
    "nTopics = 3\n",
    "vocabSize = 3\n",
    "nDocs= 500\n",
    "averageLength=1000\n",
    "[[topicsDist, topicsOfDocs, wordsOfDocs], [real_alpha, real_B]] = dataset.generateRandomCorpus(nTopics=nTopics,\n",
    "                                                                                               vocabSize=vocabSize,\n",
    "                                                                                               nDocs=nDocs,\n",
    "                                                                                               averageLength=averageLength)"
   ]
  },
  {
   "cell_type": "code",
   "execution_count": null,
   "metadata": {
    "collapsed": false
   },
   "outputs": [],
   "source": [
    "wordsOfDocs[0]"
   ]
  },
  {
   "cell_type": "code",
   "execution_count": 144,
   "metadata": {
    "collapsed": false
   },
   "outputs": [
    {
     "name": "stdout",
     "output_type": "stream",
     "text": [
      "The normalized log-likelyhood is: -0.00811857332408\n",
      "Done one interation in 7.3 seconds\n",
      "The normalized log-likelyhood is: -0.00801607397353\n",
      "Done one interation in 6.6 seconds\n",
      "The normalized log-likelyhood is: -0.0080585986726\n",
      "Done one interation in 6.3 seconds\n",
      "The normalized log-likelyhood is: -0.00809242874769\n",
      "Done one interation in 6.3 seconds\n",
      "The normalized log-likelyhood is: -0.00811991821876\n",
      "Done one interation in 6.2 seconds\n",
      "The normalized log-likelyhood is: -0.00812779733762\n",
      "We converged!\n"
     ]
    }
   ],
   "source": [
    "learned_alpha, learned_B, log_likes = vb_lda.Var_EM(nTopics, vocabSize, wordsOfDocs, maxIter=25, batchSize=-1)"
   ]
  },
  {
   "cell_type": "code",
   "execution_count": 145,
   "metadata": {
    "collapsed": false
   },
   "outputs": [
    {
     "name": "stdout",
     "output_type": "stream",
     "text": [
      "-0.00811682951773\n"
     ]
    }
   ],
   "source": [
    "print vb_lda.log_likelyhood(real_alpha, real_B, wordsOfDocs)"
   ]
  },
  {
   "cell_type": "code",
   "execution_count": 146,
   "metadata": {
    "collapsed": false
   },
   "outputs": [
    {
     "data": {
      "text/plain": [
       "array([2, 1, 0])"
      ]
     },
     "execution_count": 146,
     "metadata": {},
     "output_type": "execute_result"
    }
   ],
   "source": [
    "np.argmax(learned_B, axis=1)"
   ]
  },
  {
   "cell_type": "code",
   "execution_count": 147,
   "metadata": {
    "collapsed": false
   },
   "outputs": [
    {
     "data": {
      "text/plain": [
       "array([1, 2, 0])"
      ]
     },
     "execution_count": 147,
     "metadata": {},
     "output_type": "execute_result"
    }
   ],
   "source": [
    "np.argmax(real_B, axis=1)"
   ]
  },
  {
   "cell_type": "code",
   "execution_count": 137,
   "metadata": {
    "collapsed": false
   },
   "outputs": [
    {
     "data": {
      "text/plain": [
       "array([5, 1, 4, 6, 9, 0, 3, 8, 2, 7])"
      ]
     },
     "execution_count": 137,
     "metadata": {},
     "output_type": "execute_result"
    }
   ],
   "source": [
    "np.argsort(learned_B[-1])[::-1]"
   ]
  },
  {
   "cell_type": "code",
   "execution_count": 138,
   "metadata": {
    "collapsed": false
   },
   "outputs": [
    {
     "data": {
      "text/plain": [
       "array([5, 1, 6, 9, 4, 7, 3, 8, 2, 0])"
      ]
     },
     "execution_count": 138,
     "metadata": {},
     "output_type": "execute_result"
    }
   ],
   "source": [
    "np.argsort(real_B[0])[::-1]"
   ]
  },
  {
   "cell_type": "code",
   "execution_count": 153,
   "metadata": {
    "collapsed": false
   },
   "outputs": [
    {
     "data": {
      "text/plain": [
       "array([ 0.03393701,  0.92781239,  0.0382506 ])"
      ]
     },
     "execution_count": 153,
     "metadata": {},
     "output_type": "execute_result"
    }
   ],
   "source": [
    "learned_B[1]"
   ]
  },
  {
   "cell_type": "code",
   "execution_count": 152,
   "metadata": {
    "collapsed": false
   },
   "outputs": [
    {
     "data": {
      "text/plain": [
       "array([  5.94585399e-04,   9.94380612e-01,   5.02480290e-03])"
      ]
     },
     "execution_count": 152,
     "metadata": {},
     "output_type": "execute_result"
    }
   ],
   "source": [
    "real_B[0]"
   ]
  },
  {
   "cell_type": "code",
   "execution_count": 415,
   "metadata": {
    "collapsed": false
   },
   "outputs": [
    {
     "data": {
      "text/plain": [
       "array([ 0.64438657,  0.00880994,  0.3468035 ])"
      ]
     },
     "execution_count": 415,
     "metadata": {},
     "output_type": "execute_result"
    }
   ],
   "source": [
    "learn_B[0]"
   ]
  },
  {
   "cell_type": "code",
   "execution_count": 433,
   "metadata": {
    "collapsed": false
   },
   "outputs": [
    {
     "data": {
      "text/plain": [
       "[0.86666642560669305,\n",
       " 0.13333329624718354,\n",
       " 9.7558467042463064e-08,\n",
       " 7.8864024947039816e-08,\n",
       " 7.3768681831593798e-08,\n",
       " 2.7954713905161562e-08,\n",
       " 2.3081614696625403e-13,\n",
       " 4.7646285611213419e-15,\n",
       " 7.208513291079656e-17,\n",
       " 1.0133722522339254e-17]"
      ]
     },
     "execution_count": 433,
     "metadata": {},
     "output_type": "execute_result"
    }
   ],
   "source": [
    "sorted(learn_B[3])[::-1][:10]"
   ]
  },
  {
   "cell_type": "code",
   "execution_count": 431,
   "metadata": {
    "collapsed": false
   },
   "outputs": [
    {
     "data": {
      "text/plain": [
       "[0.88648495850517839,\n",
       " 0.047044318619915884,\n",
       " 0.045957649035444324,\n",
       " 0.007183283121060772,\n",
       " 0.0051530020331418723,\n",
       " 0.0023709546991718886,\n",
       " 0.0022970121354764289,\n",
       " 0.0016303665415172482,\n",
       " 0.00090000972074400008,\n",
       " 0.00043614069755062225]"
      ]
     },
     "execution_count": 431,
     "metadata": {},
     "output_type": "execute_result"
    }
   ],
   "source": [
    "sorted(real_B[0])[::-1][:10]"
   ]
  },
  {
   "cell_type": "code",
   "execution_count": null,
   "metadata": {
    "collapsed": true
   },
   "outputs": [],
   "source": []
  }
 ],
 "metadata": {
  "kernelspec": {
   "display_name": "Python 2",
   "language": "python",
   "name": "python2"
  },
  "language_info": {
   "codemirror_mode": {
    "name": "ipython",
    "version": 2
   },
   "file_extension": ".py",
   "mimetype": "text/x-python",
   "name": "python",
   "nbconvert_exporter": "python",
   "pygments_lexer": "ipython2",
   "version": "2.7.12"
  }
 },
 "nbformat": 4,
 "nbformat_minor": 0
}
