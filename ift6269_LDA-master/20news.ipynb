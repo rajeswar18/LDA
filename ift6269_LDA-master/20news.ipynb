{
 "cells": [
  {
   "cell_type": "code",
   "execution_count": 106,
   "metadata": {
    "collapsed": false
   },
   "outputs": [
    {
     "name": "stdout",
     "output_type": "stream",
     "text": [
      "loading the train set\n",
      "[[  29    1]\n",
      " [ 102    1]\n",
      " [ 122    1]\n",
      " [ 877    1]\n",
      " [ 912    1]\n",
      " [1036    1]\n",
      " [1932    1]\n",
      " [2379    1]\n",
      " [2479    1]\n",
      " [3695    1]\n",
      " [6217    1]\n",
      " [6321    1]\n",
      " [6531    1]\n",
      " [6864    1]\n",
      " [6865    1]]\n",
      "[ 912 6531  102 6321 1036 2379 1932  877 2479 6864 6865 6217  122 3695   29]\n",
      "loading the labels for train set\n",
      "loading the map for train set\n",
      "loading the test set\n",
      "loading the labels for test set\n",
      "loading the map for test set\n",
      "loading the vocabulary\n"
     ]
    }
   ],
   "source": [
    "#%load_ext autoreload\n",
    "%autoreload 2\n",
    "import numpy as np\n",
    "import os\n",
    "import collections\n",
    "\n",
    "def load_20news(path=\"./20news-bydate\"):\n",
    "    \n",
    "    # http://qwone.com/~jason/20Newsgroups/\n",
    "    \n",
    "    def read_dataset(name):\n",
    "        \n",
    "        print \"loading the {} set\".format(name)\n",
    "        # load the data\n",
    "        data = open(os.path.join(path, \"matlab/{}.data\".format(name))).read()\n",
    "        data = data.split(\"\\n\")[:-1] # The last line is empty\n",
    "        nb_lines = len(data)\n",
    "        \n",
    "        #make a np.array\n",
    "        file_np = np.zeros((nb_lines, 3))\n",
    "        for no, line in enumerate(data):\n",
    "            \n",
    "            try:\n",
    "                line = [int(i) for i in line.split()]\n",
    "                file_np[no] = np.array(line)\n",
    "            except ValueError:\n",
    "                pass\n",
    "            \n",
    "        M = len(set(file_np[:, 0]))\n",
    "        docs = []\n",
    "        for d in range(1, M+1):\n",
    "            doc = file_np[np.where(file_np[:, 0] == d)]\n",
    "            doc = doc[:, 1:].astype(int)# remove the doc id\n",
    "            \n",
    "            if d % 1000 == 0:\n",
    "                print \"Done loading {} documents\".format(d)\n",
    "                        \n",
    "            doc_array = np.array(list(collections.Counter(dict(doc)).elements()))\n",
    "            docs.append(doc_array)\n",
    "            \n",
    "        return docs\n",
    "    \n",
    "    def read_labels(name):\n",
    "        print \"loading the labels for {} set\".format(name)\n",
    "        labels = open(os.path.join(path, \"matlab/{}.label\".format(name))).read()\n",
    "        labels = labels.split(\"\\n\")[:-1] # The last line is empty\n",
    "        labels = np.array(labels).astype(int)\n",
    "        return labels\n",
    "        \n",
    "        \n",
    "        \n",
    "    def load_map(name):\n",
    "        print \"loading the map for {} set\".format(name)\n",
    "        \n",
    "        mapping = open(os.path.join(path, \"matlab/{}.map\".format(name))).read()\n",
    "        mapping = mapping.split(\"\\n\")[:-1]\n",
    "        \n",
    "        mapping = [[int(line.split()[1]), line.split()[0]] for line in mapping]\n",
    "        return dict(mapping)\n",
    "        \n",
    "    def load_vocabulary():\n",
    "        \n",
    "        print \"loading the vocabulary\"\n",
    "        vocab = open(os.path.join(path, \"vocabulary.txt\")).read()\n",
    "        vocab = vocab.split('\\n')[:-1]\n",
    "        return vocab\n",
    "    \n",
    "    train_data = read_dataset('train')\n",
    "    train_labels = read_labels('train')\n",
    "    train_map = load_map('train')\n",
    "    \n",
    "    test_data = read_dataset('test')\n",
    "    test_labels = read_labels('test')\n",
    "    test_map = load_map('test')\n",
    "    \n",
    "    vocab = load_vocabulary()\n",
    "    \n",
    "    return train_data, train_labels, train_map, test_data, test_labels, test_map, vocab\n",
    "\n",
    "train_data, train_labels, train_map, test_data, test_labels, test_map, vocab = load_20news()\n",
    "\n",
    "    "
   ]
  },
  {
   "cell_type": "code",
   "execution_count": 115,
   "metadata": {
    "collapsed": false
   },
   "outputs": [
    {
     "name": "stderr",
     "output_type": "stream",
     "text": [
      "vb_lda.py:25: RuntimeWarning: invalid value encountered in divide\n",
      "  phis_tp1 /= phis_tp1.sum(axis=0)\n",
      "vb_lda.py:170: RuntimeWarning: divide by zero encountered in log\n",
      "  raise e\n",
      "vb_lda.py:232: RuntimeWarning: invalid value encountered in absolute\n",
      "  \n",
      "vb_lda.py:109: RuntimeWarning: invalid value encountered in less_equal\n",
      "  # print \"hoho!\"\n"
     ]
    },
    {
     "name": "stdout",
     "output_type": "stream",
     "text": [
      "The normalized log-likelyhood is: nan\n",
      "Took to long to converge :S (101)\n",
      "Done one interation in 52.4 seconds\n"
     ]
    }
   ],
   "source": [
    "import vb_lda\n",
    "\n",
    "vocabSize = len(vocab)\n",
    "learned_alpha, learned_B, log_likes = vb_lda.Var_EM(20, vocabSize, train_data, maxIter=1, batchSize=-1)"
   ]
  },
  {
   "cell_type": "code",
   "execution_count": 85,
   "metadata": {
    "collapsed": false
   },
   "outputs": [
    {
     "data": {
      "text/plain": [
       "{1: 'alt.atheism',\n",
       " 2: 'comp.graphics',\n",
       " 3: 'comp.os.ms-windows.misc',\n",
       " 4: 'comp.sys.ibm.pc.hardware',\n",
       " 5: 'comp.sys.mac.hardware',\n",
       " 6: 'comp.windows.x',\n",
       " 7: 'misc.forsale',\n",
       " 8: 'rec.autos',\n",
       " 9: 'rec.motorcycles',\n",
       " 10: 'rec.sport.baseball',\n",
       " 11: 'rec.sport.hockey',\n",
       " 12: 'sci.crypt',\n",
       " 13: 'sci.electronics',\n",
       " 14: 'sci.med',\n",
       " 15: 'sci.space',\n",
       " 16: 'soc.religion.christian',\n",
       " 17: 'talk.politics.guns',\n",
       " 18: 'talk.politics.mideast',\n",
       " 19: 'talk.politics.misc',\n",
       " 20: 'talk.religion.misc'}"
      ]
     },
     "execution_count": 85,
     "metadata": {},
     "output_type": "execute_result"
    }
   ],
   "source": [
    "train_map"
   ]
  },
  {
   "cell_type": "code",
   "execution_count": 113,
   "metadata": {
    "collapsed": false
   },
   "outputs": [
    {
     "data": {
      "text/plain": [
       "array([ nan,  nan,  nan,  nan,  nan,  nan,  nan,  nan,  nan,  nan,  nan,\n",
       "        nan,  nan,  nan,  nan,  nan,  nan,  nan,  nan,  nan])"
      ]
     },
     "execution_count": 113,
     "metadata": {},
     "output_type": "execute_result"
    }
   ],
   "source": [
    "learned_alpha"
   ]
  },
  {
   "cell_type": "code",
   "execution_count": 54,
   "metadata": {
    "collapsed": false
   },
   "outputs": [
    {
     "data": {
      "text/plain": [
       "array(<itertools.chain object at 0x7f3005e32290>, dtype=object)"
      ]
     },
     "execution_count": 54,
     "metadata": {},
     "output_type": "execute_result"
    }
   ],
   "source": [
    "np.array(collections.Counter(dict(np.array([[1, 2],[3, 4]]))).elements())"
   ]
  },
  {
   "cell_type": "code",
   "execution_count": 83,
   "metadata": {
    "collapsed": false
   },
   "outputs": [
    {
     "data": {
      "text/plain": [
       "{1: '2', 3: '4'}"
      ]
     },
     "execution_count": 83,
     "metadata": {},
     "output_type": "execute_result"
    }
   ],
   "source": [
    "dict([[1, '2'],[3, '4']])"
   ]
  },
  {
   "cell_type": "code",
   "execution_count": null,
   "metadata": {
    "collapsed": true
   },
   "outputs": [],
   "source": []
  }
 ],
 "metadata": {
  "kernelspec": {
   "display_name": "Python 2",
   "language": "python",
   "name": "python2"
  },
  "language_info": {
   "codemirror_mode": {
    "name": "ipython",
    "version": 2
   },
   "file_extension": ".py",
   "mimetype": "text/x-python",
   "name": "python",
   "nbconvert_exporter": "python",
   "pygments_lexer": "ipython2",
   "version": "2.7.12"
  }
 },
 "nbformat": 4,
 "nbformat_minor": 0
}
